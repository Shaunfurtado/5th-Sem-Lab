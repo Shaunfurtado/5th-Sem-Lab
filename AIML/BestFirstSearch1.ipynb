{
 "cells": [
  {
   "cell_type": "code",
   "execution_count": null,
   "metadata": {},
   "outputs": [],
   "source": [
    "import heapq\n",
    "Graph_nodes = {\n",
    "    'S': ['A','B','C'],\n",
    "    'A': ['D','E','G'],\n",
    "    'B': ['G'],\n",
    "    'C': ['G']\n",
    "}\n",
    "def heuristic(n):\n",
    "    H_dist = {\n",
    "        'S': 8,\n",
    "        'A': 8,\n",
    "        'B': 4,\n",
    "        'C': 3,\n",
    "        'D': 99,\n",
    "        'E': 99,\n",
    "        'G': 0\n",
    "    }\n",
    "    return H_dist[n]\n",
    "\n",
    "def best_first_search(graph, start, goal):\n",
    "    \"\"\"\n",
    "    graph: dict having tree structure\n",
    "    start: starting node of the tree\n",
    "    goal: node to search\n",
    "    heuristic: list of heuristic cost\n",
    "    \"\"\"\n",
    "    open = [(heuristic(start), start)]\n",
    "    closed = {}\n",
    "    closed[start] = None\n",
    "    \n",
    "    while open:\n",
    "        _,peak_node = heapq.heappop(open)\n",
    "        if peak_node == goal:\n",
    "            break\n",
    "        for neighbour in graph[peak_node]:\n",
    "            if neighbour not in closed:\n",
    "                heapq.heappush(open, (heuristic(neighbour), neighbour))\n",
    "                closed[neighbour] = peak_node\n",
    "    return closed\n"
   ]
  },
  {
   "cell_type": "code",
   "execution_count": null,
   "metadata": {},
   "outputs": [],
   "source": [
    "start_node = 'S'\n",
    "goal_node = 'G'\n",
    "closed = best_first_search(Graph_nodes, start_node, goal_node)\n",
    "print(\"Closed list\",closed)\n",
    "node = goal_node\n",
    "path = [node]\n",
    "\n",
    "while node != start_node:\n",
    "    node = closed[node]\n",
    "    path.append(node)\n",
    "    \n",
    "path.reverse()\n",
    "print(\"BFS path from\", start_node,\"to\",goal_node,\":\",path)\n"
   ]
  }
 ],
 "metadata": {
  "kernelspec": {
   "display_name": "Python 3",
   "language": "python",
   "name": "python3"
  },
  "language_info": {
   "codemirror_mode": {
    "name": "ipython",
    "version": 3
   },
   "file_extension": ".py",
   "mimetype": "text/x-python",
   "name": "python",
   "nbconvert_exporter": "python",
   "pygments_lexer": "ipython3",
   "version": "3.12.1"
  }
 },
 "nbformat": 4,
 "nbformat_minor": 2
}
